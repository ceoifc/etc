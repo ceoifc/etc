{
 "cells": [
  {
   "cell_type": "code",
   "execution_count": 24,
   "metadata": {},
   "outputs": [
    {
     "name": "stdout",
     "output_type": "stream",
     "text": [
      "329\n",
      "5시간 29분 필요\n"
     ]
    }
   ],
   "source": [
    "import operator\n",
    "\n",
    "total = 80 * 60\n",
    "real = 74 * 60 + 31\n",
    "diff = total - real\n",
    "\n",
    "print(diff)\n",
    "print(f'{int(diff / 60)}시간 {diff % 60}분 필요')"
   ]
  },
  {
   "cell_type": "code",
   "execution_count": 1,
   "metadata": {},
   "outputs": [
    {
     "name": "stdout",
     "output_type": "stream",
     "text": [
      "[39, 36, 51, 51, -41, 34, 55, -3, -49]\n",
      "173 분 여유 있음\n"
     ]
    }
   ],
   "source": [
    "import operator\n",
    "\n",
    "total = [8, 8, 8, 8, 8, 8, 8, 8, 8]\n",
    "working_minutes = [519, 516, 531, 531, 439, 514, 535, 477, 431]\n",
    "    \n",
    "total = list(map(lambda a: a * 60, total))\n",
    "diff = list(map(operator.sub, working_minutes, total))\n",
    "\n",
    "print(diff)\n",
    "print(f'{sum(diff)} 분 여유 있음')"
   ]
  },
  {
   "cell_type": "code",
   "execution_count": 4,
   "metadata": {},
   "outputs": [
    {
     "name": "stdout",
     "output_type": "stream",
     "text": [
      "💯⎳gT™️👍\n"
     ]
    }
   ],
   "source": [
    "# LGTM generator\n",
    "import random\n",
    "\n",
    "list = [['👍', '👏', '😀', '⭐️', '🎉', '💯'],\n",
    "        ['l', 'L', '⎳'],\n",
    "        ['g', 'G'],\n",
    "        ['t', 'T', '〒'],\n",
    "        ['m', 'M', '♏︎', 'ℳ', '♏️', 'Ⓜ️', '™️'],\n",
    "        ['!', '👍', '👏', '🤗', '🚀', '🎊']]\n",
    "\n",
    "result = ''\n",
    "for i in list:\n",
    "    result += i[random.randint(0, len(i) - 1)]\n",
    "    \n",
    "print(result)"
   ]
  },
  {
   "cell_type": "code",
   "execution_count": 24,
   "metadata": {},
   "outputs": [
    {
     "name": "stdout",
     "output_type": "stream",
     "text": [
      "test\n"
     ]
    }
   ],
   "source": [
    "print('test')"
   ]
  }
 ],
 "metadata": {
  "kernelspec": {
   "display_name": "Python 3",
   "language": "python",
   "name": "python3"
  },
  "language_info": {
   "codemirror_mode": {
    "name": "ipython",
    "version": 3
   },
   "file_extension": ".py",
   "mimetype": "text/x-python",
   "name": "python",
   "nbconvert_exporter": "python",
   "pygments_lexer": "ipython3",
   "version": "3.11.4"
  },
  "orig_nbformat": 4
 },
 "nbformat": 4,
 "nbformat_minor": 2
}
