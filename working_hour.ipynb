{
 "cells": [
  {
   "cell_type": "code",
   "execution_count": 12,
   "metadata": {},
   "outputs": [
    {
     "name": "stdout",
     "output_type": "stream",
     "text": [
      "2237\n",
      "37시간 17분 필요\n"
     ]
    }
   ],
   "source": [
    "import operator\n",
    "\n",
    "total = 64 * 60\n",
    "real = 26 * 60 + 43\n",
    "diff = total - real\n",
    "\n",
    "print(diff)\n",
    "print(f'{int(diff / 60)}시간 {diff % 60}분 필요')"
   ]
  },
  {
   "cell_type": "code",
   "execution_count": 1,
   "metadata": {},
   "outputs": [
    {
     "name": "stdout",
     "output_type": "stream",
     "text": [
      "[39, 36, 51, 51, -41, 34, 55, -3, -49]\n",
      "173 분 여유 있음\n"
     ]
    }
   ],
   "source": [
    "import operator\n",
    "\n",
    "total = [8, 8, 8, 8, 8, 8, 8, 8, 8]\n",
    "working_minutes = [519, 516, 531, 531, 439, 514, 535, 477, 431]\n",
    "    \n",
    "total = list(map(lambda a: a * 60, total))\n",
    "diff = list(map(operator.sub, working_minutes, total))\n",
    "\n",
    "print(diff)\n",
    "print(f'{sum(diff)} 분 여유 있음')"
   ]
  },
  {
   "cell_type": "code",
   "execution_count": 14,
   "metadata": {},
   "outputs": [
    {
     "name": "stdout",
     "output_type": "stream",
     "text": [
      "🎉⎣🐀Ţጨ🦦\n"
     ]
    }
   ],
   "source": [
    "# LGTM generator\n",
    "import random\n",
    "import clipboard\n",
    "\n",
    "list = [['👍', '👏', '😀', '⭐️', '🎉', '💯', '🧑‍💻', '🙆🏽', '🐶', '🐧', '🦭', '🫰', '🌞', '🌈', '☑️'],\n",
    "        ['l', 'L', '⎳', '⌙', '⎣', '⎿', '⌞', 'Ĺ', 'Ļ', 'Ľ', 'Ŀ', 'Ը', 'ᒺ', '▙', 'ℒ', '🄛', 'Ⓛ', '𝓛', '𝑳', '🅻'],\n",
    "        ['g', 'G', 'ℊ', '🐭', '🐁', '🐀', '❡', 'Ĝ', 'ĝ', 'Ğ', 'ğ', 'Ģ', 'ģ', 'Ɠ', 'ԍ', 'Ձ', '౨', 'ဌ', 'Ᏽ', 'ᮝ', 'Ⓖ', '🅖', '🄶', 'ⓖ', '⒢'],\n",
    "        ['t', 'T', '〒', '⏉', '〶', '⍡', '✝️', 'Ţ', 'ţ', 'Ť', 'ť', 'ቲ', 'ቴ', 'ᛠ', 'ᝈ', '᮱', '𝐭', '𝑇', 'Ⓣ', '🅃', '𝑻'],\n",
    "        ['m', 'M', '♏︎', 'ℳ', '♏️', 'Ⓜ️', '™️', '🏧', 'Ɯ', 'Ϻ', 'м', 'ဣ', 'ဢ', 'ጨ', 'ጫ', 'ጭ', 'ᕬ', 'ᛗ', 'ᜈ', 'ᮋ', 'Ო', '𝓜', '𝔐', '𝕄'],\n",
    "        ['!', '👍', '👏', '🤗', '🚀', '🎊', '😊', '👩‍💻', '🙆🏿‍♂️', '🦦', '🦄', '🐯', '🌝', '🌟', '🇰🇷']]\n",
    "\n",
    "result = \"\".join([i[random.randint(0, len(i) - 1)] for i in list])\n",
    "    \n",
    "print(result)\n",
    "clipboard.copy(result)"
   ]
  },
  {
   "cell_type": "code",
   "execution_count": 5,
   "metadata": {},
   "outputs": [
    {
     "name": "stdout",
     "output_type": "stream",
     "text": [
      "test\n"
     ]
    }
   ],
   "source": [
    "print('test')"
   ]
  }
 ],
 "metadata": {
  "kernelspec": {
   "display_name": "Python 3",
   "language": "python",
   "name": "python3"
  },
  "language_info": {
   "codemirror_mode": {
    "name": "ipython",
    "version": 3
   },
   "file_extension": ".py",
   "mimetype": "text/x-python",
   "name": "python",
   "nbconvert_exporter": "python",
   "pygments_lexer": "ipython3",
   "version": "3.11.5"
  },
  "orig_nbformat": 4
 },
 "nbformat": 4,
 "nbformat_minor": 2
}
