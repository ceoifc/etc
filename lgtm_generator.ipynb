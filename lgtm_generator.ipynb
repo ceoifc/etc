{
 "cells": [
  {
   "cell_type": "code",
   "execution_count": 1,
   "metadata": {},
   "outputs": [
    {
     "name": "stdout",
     "output_type": "stream",
     "text": [
      "🐶Ĺ🅖᮱Ϻ🤗\n"
     ]
    }
   ],
   "source": [
    "# LGTM generator\n",
    "import random\n",
    "import clipboard\n",
    "\n",
    "characters = [['👍', '👏', '😀', '⭐️', '🎉', '💯', '🧑‍💻', '🙆🏽', '🐶', '🐧', '🦭', '🫰', '🌞', '🌈', '☑️'],\n",
    "        ['l', 'L', '⎳', '⌙', '⎣', '⎿', '⌞', 'Ĺ', 'Ļ', 'Ľ', 'Ŀ', 'Ը', 'ᒺ', '▙', 'ℒ', '🄛', 'Ⓛ', '𝓛', '𝑳', '🅻'],\n",
    "        ['g', 'G', 'ℊ', '🐭', '🐁', '🐀', '❡', 'Ĝ', 'ĝ', 'Ğ', 'ğ', 'Ģ', 'ģ', 'Ɠ', 'ԍ', 'Ձ', '౨', 'ဌ', 'Ᏽ', 'ᮝ', 'Ⓖ', '🅖', '🄶', 'ⓖ', '⒢'],\n",
    "        ['t', 'T', '〒', '⏉', '〶', '⍡', '✝️', 'Ţ', 'ţ', 'Ť', 'ť', 'ቲ', 'ቴ', 'ᛠ', 'ᝈ', '᮱', '𝐭', '𝑇', 'Ⓣ', '🅃', '𝑻'],\n",
    "        ['m', 'M', '♏︎', 'ℳ', '♏️', 'Ⓜ️', '™️', '🏧', 'Ɯ', 'Ϻ', 'м', 'ဣ', 'ဢ', 'ጨ', 'ጫ', 'ጭ', 'ᕬ', 'ᛗ', 'ᜈ', 'ᮋ', 'Ო', '𝓜', '𝔐', '𝕄'],\n",
    "        ['!', '👍', '👏', '🤗', '🚀', '🎊', '😊', '👩‍💻', '🙆🏿‍♂️', '🦦', '🦄', '🐯', '🌝', '🌟', '🇰🇷']]\n",
    "\n",
    "result = \"\".join([i[random.randint(0, len(i) - 1)] for i in characters])\n",
    "    \n",
    "print(result)\n",
    "clipboard.copy(result)"
   ]
  }
 ],
 "metadata": {
  "kernelspec": {
   "display_name": "Python 3",
   "language": "python",
   "name": "python3"
  },
  "language_info": {
   "codemirror_mode": {
    "name": "ipython",
    "version": 3
   },
   "file_extension": ".py",
   "mimetype": "text/x-python",
   "name": "python",
   "nbconvert_exporter": "python",
   "pygments_lexer": "ipython3",
   "version": "3.11.5"
  },
  "orig_nbformat": 4
 },
 "nbformat": 4,
 "nbformat_minor": 2
}
