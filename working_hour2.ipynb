{
 "cells": [
  {
   "cell_type": "code",
   "execution_count": 1,
   "metadata": {},
   "outputs": [
    {
     "name": "stdout",
     "output_type": "stream",
     "text": [
      "[39, 36, 51, 51, -41, 34, 55, -3, -49]\n",
      "173 분 여유 있음\n"
     ]
    }
   ],
   "source": [
    "import operator\n",
    "\n",
    "standard_working_hours = [8, 8, 8, 8, 8, 8, 8, 8, 8]\n",
    "working_minutes = [519, 516, 531, 531, 439, 514, 535, 477, 431]\n",
    "    \n",
    "standard_working_hours2 = list(map(lambda x: x * 60, standard_working_hours))\n",
    "diff_minutes = list(map(operator.sub, working_minutes, standard_working_hours2))\n",
    "\n",
    "print(diff_minutes)\n",
    "print(f'{sum(diff_minutes)} 분 여유 있음')"
   ]
  }
 ],
 "metadata": {
  "kernelspec": {
   "display_name": "Python 3",
   "language": "python",
   "name": "python3"
  },
  "language_info": {
   "codemirror_mode": {
    "name": "ipython",
    "version": 3
   },
   "file_extension": ".py",
   "mimetype": "text/x-python",
   "name": "python",
   "nbconvert_exporter": "python",
   "pygments_lexer": "ipython3",
   "version": "3.11.5"
  },
  "orig_nbformat": 4
 },
 "nbformat": 4,
 "nbformat_minor": 2
}
